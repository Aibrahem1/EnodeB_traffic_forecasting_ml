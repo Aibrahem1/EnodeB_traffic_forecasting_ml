{
 "cells": [
  {
   "cell_type": "code",
   "id": "initial_id",
   "metadata": {
    "collapsed": true,
    "ExecuteTime": {
     "end_time": "2025-07-08T09:50:10.846911Z",
     "start_time": "2025-07-08T09:50:10.843385Z"
    }
   },
   "source": "from matplotlib import pyplot as plt",
   "outputs": [],
   "execution_count": 2
  },
  {
   "metadata": {
    "ExecuteTime": {
     "end_time": "2025-07-08T09:51:00.445965Z",
     "start_time": "2025-07-08T09:51:00.054085Z"
    }
   },
   "cell_type": "code",
   "source": "from pydataset import data",
   "id": "62fe8712ab491968",
   "outputs": [],
   "execution_count": 4
  },
  {
   "metadata": {
    "ExecuteTime": {
     "end_time": "2025-07-08T09:52:12.097539Z",
     "start_time": "2025-07-08T09:52:12.053566Z"
    }
   },
   "cell_type": "code",
   "source": "data().to_csv('Datasets/data.csv')",
   "id": "b043eca9220b17e8",
   "outputs": [],
   "execution_count": 6
  },
  {
   "metadata": {},
   "cell_type": "code",
   "outputs": [],
   "execution_count": null,
   "source": "",
   "id": "7b604987fe2eff55"
  }
 ],
 "metadata": {
  "kernelspec": {
   "display_name": "Python 3",
   "language": "python",
   "name": "python3"
  },
  "language_info": {
   "codemirror_mode": {
    "name": "ipython",
    "version": 2
   },
   "file_extension": ".py",
   "mimetype": "text/x-python",
   "name": "python",
   "nbconvert_exporter": "python",
   "pygments_lexer": "ipython2",
   "version": "2.7.6"
  }
 },
 "nbformat": 4,
 "nbformat_minor": 5
}
